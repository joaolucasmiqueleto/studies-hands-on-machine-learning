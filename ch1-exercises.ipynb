{
 "cells": [
  {
   "attachments": {},
   "cell_type": "markdown",
   "metadata": {},
   "source": [
    "# Chapter 1 - The Machine Learning Landscape"
   ]
  },
  {
   "attachments": {},
   "cell_type": "markdown",
   "metadata": {},
   "source": [
    "## Exercises"
   ]
  },
  {
   "attachments": {},
   "cell_type": "markdown",
   "metadata": {},
   "source": [
    "#### 1) How would you define Machine Learning?"
   ]
  },
  {
   "attachments": {},
   "cell_type": "markdown",
   "metadata": {},
   "source": [
    "In general, Machine Learning can be defined as the ability of a computer to learn something without being explicitly programmed to do so. Given a set of data $E$ and a task $T$, the Machine Learning algorithm will use the data to train and identify patterns that enable it to carry out the task $T$. We can say that the algorithm has learned something if its performance in task $T$ improves, as measured by some metric $P$."
   ]
  },
  {
   "attachments": {},
   "cell_type": "markdown",
   "metadata": {},
   "source": [
    "#### 2) Can you name four types of problems where it shines?"
   ]
  },
  {
   "attachments": {},
   "cell_type": "markdown",
   "metadata": {},
   "source": [
    "Machine learning techniques can be applied to a wide range of problems, from simple spam email detection to the detection of tumors in brain scan images. Here are some examples of such applications:\n",
    "\n",
    "* Spam detection in emails: the algorithm can classify a new set of emails as spam or not based on previous data.\n",
    "\n",
    "* Speech recognition: the program can recognize audio speech (e.g. on a cellphone) and perform a task accordingly.\n",
    "\n",
    "* Image classification: there are many applications of this, including the detection and classification of tumor cells in brain scans.\n",
    "\n",
    "* Revenue forecasting: using previous revenue data, a model can be trained to forecast future revenue, such as for the next year."
   ]
  },
  {
   "attachments": {},
   "cell_type": "markdown",
   "metadata": {},
   "source": [
    "#### 3) What is a labeled training set?"
   ]
  },
  {
   "attachments": {},
   "cell_type": "markdown",
   "metadata": {},
   "source": [
    "A labeled training set is a set of data that includes a target feature indicating the correct value or category for each instance. In a labeled training set, the algorithm learns from the features and the corresponding target labels. This enables the algorithm to classify new instances (or provide a numerical value in a regression problem) based on what it has learned from the labeled training set"
   ]
  },
  {
   "attachments": {},
   "cell_type": "markdown",
   "metadata": {},
   "source": [
    "#### 4) What are the two most common supervised tasks?"
   ]
  },
  {
   "attachments": {},
   "cell_type": "markdown",
   "metadata": {},
   "source": [
    "The two most common types of supervised learning tasks are classification and regression. In classification tasks, the labeled data includes the category for each instance and the goal is to predict the category of a new instance. In regression tasks, the goal is to predict a value (such as the price of a car) based on the features and labeled target of that thing. \n",
    "The main algorithms of supervised learning are: 1) Linear Regression; 2) Logistic Regression; 3) k-Nearest Neighbors; 4) Decision Trees and Random Forest; 5) Support Vector Machines"
   ]
  },
  {
   "cell_type": "markdown",
   "metadata": {},
   "source": []
  },
  {
   "cell_type": "markdown",
   "metadata": {},
   "source": []
  }
 ],
 "metadata": {
  "kernelspec": {
   "display_name": "tf2",
   "language": "python",
   "name": "python3"
  },
  "language_info": {
   "name": "python",
   "version": "3.8.15 | packaged by conda-forge | (default, Nov 22 2022, 08:43:00) [MSC v.1929 64 bit (AMD64)]"
  },
  "orig_nbformat": 4,
  "vscode": {
   "interpreter": {
    "hash": "19ee63d01927b558c5dbee84aff86c771e13956f22600741ac78c2eb0e3a0636"
   }
  }
 },
 "nbformat": 4,
 "nbformat_minor": 2
}
